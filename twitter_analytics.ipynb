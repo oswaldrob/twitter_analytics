{
  "nbformat": 4,
  "nbformat_minor": 0,
  "metadata": {
    "colab": {
      "name": "twitter_analytics.ipynb",
      "version": "0.3.2",
      "provenance": [],
      "include_colab_link": true
    },
    "kernelspec": {
      "name": "python3",
      "display_name": "Python 3"
    }
  },
  "cells": [
    {
      "cell_type": "markdown",
      "metadata": {
        "id": "view-in-github",
        "colab_type": "text"
      },
      "source": [
        "<a href=\"https://colab.research.google.com/github/oswaldrob/twitter_analytics/blob/master/twitter_analytics.ipynb\" target=\"_parent\"><img src=\"https://colab.research.google.com/assets/colab-badge.svg\" alt=\"Open In Colab\"/></a>"
      ]
    },
    {
      "cell_type": "markdown",
      "metadata": {
        "id": "Shh51tCtJ4_Y",
        "colab_type": "text"
      },
      "source": [
        "##Hi Python Class Group :) \n",
        "\n",
        "Welcome to Google Colab!  It's a python3 jupyter notebook hosted in GCP's environment, for free, that we can all collaborate on.   Anyone with the link can access this notebook, so keep the link to our group please.\n"
      ]
    },
    {
      "cell_type": "markdown",
      "metadata": {
        "id": "HtWUbtcXKWpp",
        "colab_type": "text"
      },
      "source": [
        "####Project Team:  Rob Oswald, Virag Shukla, Yarong Chen, Jenn Owens, Jilliane Versluys Hide"
      ]
    },
    {
      "cell_type": "markdown",
      "metadata": {
        "id": "yo4KqK76KjGy",
        "colab_type": "text"
      },
      "source": [
        "##First we pull in Trump Tweets for analysis."
      ]
    },
    {
      "cell_type": "code",
      "metadata": {
        "id": "JsknaU7xEqOW",
        "colab_type": "code",
        "colab": {}
      },
      "source": [
        "#!/usr/bin/python\n",
        "\n",
        "import json\n",
        "import sys\n",
        "import logging\n",
        "import tweepy\n",
        "import pandas as pd\n",
        "import numpy as np\n",
        "import pprint"
      ],
      "execution_count": 0,
      "outputs": []
    },
    {
      "cell_type": "code",
      "metadata": {
        "id": "A_iB99NsE_FY",
        "colab_type": "code",
        "cellView": "both",
        "colab": {}
      },
      "source": [
        "\n"
      ],
      "execution_count": 0,
      "outputs": []
    },
    {
      "cell_type": "code",
      "metadata": {
        "id": "qg4wLS75E1Oa",
        "colab_type": "code",
        "colab": {}
      },
      "source": [
        "\n",
        "# API  setup:\n",
        "def twitter_setup():\n",
        "    \"\"\"\n",
        "    Utility function to setup the Twitter's API\n",
        "    with our access keys provided.\n",
        "    \"\"\"\n",
        "    # Use tweepy for Oauth handler authentication and keys:\n",
        "    auth = tweepy.OAuthHandler(CONSUMER_KEY, CONSUMER_SECRET)\n",
        "    auth.set_access_token(ACCESS_TOKEN, ACCESS_SECRET)\n",
        "\n",
        "    # Return API with authentication\n",
        "    api = tweepy.API(auth)\n",
        "    return api"
      ],
      "execution_count": 0,
      "outputs": []
    },
    {
      "cell_type": "code",
      "metadata": {
        "id": "FseUjAKfE4zC",
        "colab_type": "code",
        "outputId": "b81b4977-06b3-426c-d020-af2cc0796e82",
        "colab": {
          "base_uri": "https://localhost:8080/",
          "height": 445
        }
      },
      "source": [
        "# Create an grabtweets object\n",
        "grabtweets = twitter_setup()\n",
        "\n",
        "\n",
        "# Create a tweet list\n",
        "tweets = grabtweets.user_timeline(screen_name=\"realDonaldTrump\", count=200, tweet_mode=\"extended\")\n",
        "print(\"Number of tweets extracted: {}.\\n\".format(len(tweets)))\n",
        "\n",
        "# Print the most recent 5 tweets:\n",
        "print(\"Most recent 10 tweets (with times):\\n\")\n",
        "for tweet in tweets[:10]:\n",
        "    print(tweet.full_text, tweet.created_at, end = \"\\n\\n\")\n",
        "\n"
      ],
      "execution_count": 23,
      "outputs": [
        {
          "output_type": "stream",
          "text": [
            "Number of tweets extracted: 200.\n",
            "\n",
            "Most recent 10 tweets (with times):\n",
            "\n",
            "Congratulations to President Lopez Obrador — Mexico voted to ratify the USMCA today by a huge margin. Time for Congress to do the same here! 2019-06-19 23:01:59\n",
            "\n",
            "Just returning from Orlando and Doral (Miami), Florida, and heading to the Oval Office, where I will present the great Economist, Dr. Arthur Laffer, with the Presidential Medal of Freedom. 2019-06-19 20:39:28\n",
            "\n",
            "I will be interviewed LIVE tonight by @seanhannity on @FoxNews  9 P.M. Enjoy! 2019-06-19 20:29:24\n",
            "\n",
            "....asking Hillary Clinton why she deleted and acid washed her Emails AFTER getting a subpoena from Congress? Anybody else would be in jail for that, yet the Dems refuse to even bring it up. Rigged House Committee 2019-06-19 19:48:04\n",
            "\n",
            "So sad that the Democrats are putting wonderful Hope Hicks through hell, for 3 years now, after total exoneration by Robert Mueller &amp; the Mueller Report. They were unhappy with result so they want a Do Over. Very unfair &amp; costly to her. Will it ever end? Why aren’t they....... 2019-06-19 19:48:02\n",
            "\n",
            "If I didn’t have the Phony Witch Hunt going on for 3 years, and if the Fake News Media and their partner in Crime, the Democrats, would have played it straight, I would be way up in the Polls right now - with our Economy, winning by 20 points. But I’m winning anyway! 2019-06-19 15:09:18\n",
            "\n",
            "DEMOCRAT CONGRESSIONAL HEARINGS ARE #RIGGED! 2019-06-19 14:20:04\n",
            "\n",
            "....33,000 Emails that Hillary and her lawyer deleted and acid washed AFTER GETTING A SUBPOENA FROM CONGRESS? That is real Obstruction that the Dems want no part of because their hearings are RIGGED and a disgrace to our Country! 2019-06-19 14:18:12\n",
            "\n",
            "The Dems are very unhappy with the Mueller Report, so after almost 3 years, they want a Redo, or Do Over. This is extreme Presidential Harassment. They gave Crooked Hillary’s people complete Immunity, yet now they bring back Hope Hicks. Why aren’t the Dems looking at the..... 2019-06-19 14:18:11\n",
            "\n",
            "THANK YOU! #Trump2020🇺🇸 https://t.co/recnmmYAFN 2019-06-19 12:54:55\n",
            "\n"
          ],
          "name": "stdout"
        }
      ]
    },
    {
      "cell_type": "code",
      "metadata": {
        "id": "tNWwLw_7InKZ",
        "colab_type": "code",
        "colab": {}
      },
      "source": [
        ""
      ],
      "execution_count": 0,
      "outputs": []
    }
  ]
}